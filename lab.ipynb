{
 "cells": [
  {
   "cell_type": "code",
   "execution_count": 4,
   "metadata": {
    "collapsed": false
   },
   "outputs": [
    {
     "ename": "ImportError",
     "evalue": "No module named 'serial'",
     "traceback": [
      "\u001b[0;31m---------------------------------------------------------------------------\u001b[0m",
      "\u001b[0;31mImportError\u001b[0m                               Traceback (most recent call last)",
      "\u001b[0;32m<ipython-input-4-03f941da7857>\u001b[0m in \u001b[0;36m<module>\u001b[0;34m()\u001b[0m\n\u001b[1;32m      1\u001b[0m \u001b[0;32mimport\u001b[0m \u001b[0mtime\u001b[0m\u001b[0;34m\u001b[0m\u001b[0m\n\u001b[0;32m----> 2\u001b[0;31m \u001b[0;32mimport\u001b[0m \u001b[0mserial\u001b[0m\u001b[0;34m\u001b[0m\u001b[0m\n\u001b[0m",
      "\u001b[0;31mImportError\u001b[0m: No module named 'serial'"
     ],
     "output_type": "error"
    }
   ],
   "source": [
    "import time\n",
    "import serial"
   ]
  },
  {
   "cell_type": "code",
   "execution_count": 87,
   "metadata": {
    "collapsed": true
   },
   "outputs": [],
   "source": [
    "ser = serial.Serial(\n",
    "    port='/dev/tty.usbserial-A400936U',\n",
    "    baudrate=9600,\n",
    "    parity=serial.PARITY_NONE,\n",
    "    stopbits=serial.STOPBITS_ONE,\n",
    "    bytesize=serial.EIGHTBITS\n",
    ")"
   ]
  },
  {
   "cell_type": "code",
   "execution_count": 93,
   "metadata": {
    "collapsed": false
   },
   "outputs": [
    {
     "data": {
      "text/plain": [
       "False"
      ]
     },
     "execution_count": 93,
     "metadata": {},
     "output_type": "execute_result"
    }
   ],
   "source": [
    "ser.isOpen()"
   ]
  },
  {
   "cell_type": "code",
   "execution_count": 28,
   "metadata": {
    "collapsed": false
   },
   "outputs": [
    {
     "data": {
      "text/plain": [
       "[b'\\x02',\n",
       " b'0',\n",
       " b'1',\n",
       " b'0',\n",
       " b'6',\n",
       " b'1',\n",
       " b'1',\n",
       " b'0',\n",
       " b'2',\n",
       " b'8',\n",
       " b'0',\n",
       " b'0',\n",
       " b'2',\n",
       " b'1',\n",
       " b'0',\n",
       " b'\\r']"
      ]
     },
     "execution_count": 28,
     "metadata": {},
     "output_type": "execute_result"
    }
   ],
   "source": [
    "D = []\n",
    "for i in range(0,16,1):\n",
    "    D.append(v_str[i:i+1])\n",
    "\n",
    "# D[0]: Start Word = 2\n",
    "\n",
    "\n",
    "# D[1]: Reading polarity for the display\n",
    "# 0 = Both upper & lower display value are \"+\"\n",
    "# 1 = Upper \"-\", Lower \"+\"\n",
    "# 2 = Upper \"+\", Lower \"-\"\n",
    "# 3 = Both upper & lower display value are \"-\"\n",
    "\n",
    "\n",
    "# D[2]: Annunciator for Lower Display\n",
    "# 0 = No Symbol\n",
    "# 1 = ℃\n",
    "# 2 = ℉\n",
    "\n",
    "\n",
    "# D[3:5]: Annunciator for Upper Display\n",
    "# 01 = ℃\n",
    "# 02 = ℉\n",
    "# 07 = mg/L\n",
    "# 06 = % O2\n",
    "\n",
    "\n",
    "# D[5]: Decimal Point (DP) for Lower display\n",
    "# 0 = No DP\n",
    "# 1 = 1 DP\n",
    "# 2 = 2 DP\n",
    "# 3 = 3 DP\n",
    "\n",
    "\n",
    "# D[6]: Decimal Point (DP) for Upper display\n",
    "# 0 = No DP\n",
    "# 1 = 1 DP\n",
    "# 2 = 2 DP\n",
    "# 3 = 3 DP\n",
    "\n",
    "\n",
    "# D[7:11]: Lower Display reading, 4 digits, D[7] = MSD, D[10] = LSD\n",
    "\n",
    "# D[11:15]: Upper Display reading, 4 digits, D[11] = MSD, D[14] = LSD \n",
    "  # [D4, D3, D2, D1]\n",
    "\n",
    "# D[15]: End Word = 0D"
   ]
  },
  {
   "cell_type": "code",
   "execution_count": 88,
   "metadata": {
    "collapsed": true
   },
   "outputs": [],
   "source": [
    "def b2i(b_char):\n",
    "    if b_char == b'0':\n",
    "        return 0\n",
    "    elif b_char == b'1':\n",
    "        return 1\n",
    "    elif b_char == b'2':\n",
    "        return 2\n",
    "    elif b_char == b'3':\n",
    "        return 3\n",
    "    elif b_char == b'4':\n",
    "        return 4\n",
    "    elif b_char == b'5':\n",
    "        return 5\n",
    "    elif b_char == b'6':\n",
    "        return 6\n",
    "    elif b_char == b'7':\n",
    "        return 7\n",
    "    elif b_char == b'8':\n",
    "        return 8\n",
    "    elif b_char == b'9':\n",
    "        return 9"
   ]
  },
  {
   "cell_type": "code",
   "execution_count": 89,
   "metadata": {
    "collapsed": false
   },
   "outputs": [],
   "source": [
    "def parse_D(D):\n",
    "    reading = {}\n",
    "    \n",
    "    # Lower Display reading\n",
    "    LD = 0\n",
    "    LD = LD + b2i(D[7]) * 10**3\n",
    "    LD = LD + b2i(D[8]) * 10**2\n",
    "    LD = LD + b2i(D[9]) * 10\n",
    "    LD = LD + b2i(D[10])\n",
    "    LD = LD / 10**b2i(D[5])\n",
    "    reading['LD'] = LD\n",
    "    \n",
    "    # Lower Display Annunciator\n",
    "    if D[2] == b'0':\n",
    "        LDA = 'NO SYMBOL'\n",
    "    elif D[2] == b'1':\n",
    "        LDA = '℃'\n",
    "    elif D[2] == b'2':\n",
    "        LDA = '℉'\n",
    "    \n",
    "    reading['LDA'] = LDA\n",
    "    \n",
    "    # Upper Display reading\n",
    "    UD = 0\n",
    "    UD = UD + b2i(D[11]) * 10**3\n",
    "    UD = UD + b2i(D[12]) * 10**2\n",
    "    UD = UD + b2i(D[13]) * 10\n",
    "    UD = UD + b2i(D[14])\n",
    "    UD = UD / 10**b2i(D[6])\n",
    "    reading['UD'] = UD\n",
    "    \n",
    "    # Upper Display Annunciator\n",
    "    if D[4] == b'0':\n",
    "        UDA = 'NO SYMBOL'\n",
    "    elif D[4] == b'1':\n",
    "        UDA = '℃'\n",
    "    elif D[4] == b'2':\n",
    "        UDA = '℉'\n",
    "    elif D[4] == b'7':\n",
    "        UDA = 'mg/L'\n",
    "    elif D[4] == b'6':\n",
    "        UDA = '%O2'\n",
    "    \n",
    "    reading['UDA'] = UDA\n",
    "    \n",
    "    # Reading polarity for the display\n",
    "    if D[1] == b'0':\n",
    "        pass\n",
    "    elif D[1] == b'1':\n",
    "        reading['UD'] = -1.0 * reading['UD']\n",
    "    elif D[1] == b'2':\n",
    "        reading['LD'] = -1.0 * reading['LD']\n",
    "    elif D[1] == b'3':\n",
    "        reading['UD'] = -1.0 * reading['UD']\n",
    "        reading['LD'] = -1.0 * reading['LD']\n",
    "    \n",
    "    return reading"
   ]
  },
  {
   "cell_type": "code",
   "execution_count": 91,
   "metadata": {
    "collapsed": false
   },
   "outputs": [
    {
     "name": "stdout",
     "output_type": "stream",
     "text": [
      "{'LD': 27.9, 'UD': 20.8, 'UDA': '%O2', 'LDA': '℃'}\n",
      "{'LD': 27.9, 'UD': 20.8, 'UDA': '%O2', 'LDA': '℃'}\n",
      "{'LD': 28.0, 'UD': 20.7, 'UDA': '%O2', 'LDA': '℃'}\n",
      "{'LD': 28.0, 'UD': 20.7, 'UDA': '%O2', 'LDA': '℃'}\n",
      "{'LD': 27.9, 'UD': 20.8, 'UDA': '%O2', 'LDA': '℃'}\n",
      "{'LD': 28.0, 'UD': 20.7, 'UDA': '%O2', 'LDA': '℃'}\n",
      "{'LD': 28.0, 'UD': 7.8, 'UDA': 'mg/L', 'LDA': '℃'}\n",
      "{'LD': 27.9, 'UD': 7.8, 'UDA': 'mg/L', 'LDA': '℃'}\n",
      "{'LD': 27.9, 'UD': 7.8, 'UDA': 'mg/L', 'LDA': '℃'}\n",
      "{'LD': 27.8, 'UD': 7.9, 'UDA': 'mg/L', 'LDA': '℃'}\n",
      "{'LD': 27.9, 'UD': 7.8, 'UDA': 'mg/L', 'LDA': '℃'}\n",
      "{'LD': 82.2, 'UD': 7.8, 'UDA': 'mg/L', 'LDA': '℉'}\n",
      "{'LD': 82.2, 'UD': 7.8, 'UDA': 'mg/L', 'LDA': '℉'}\n",
      "{'LD': 82.0, 'UD': 7.9, 'UDA': 'mg/L', 'LDA': '℉'}\n",
      "{'LD': 82.2, 'UD': 7.8, 'UDA': 'mg/L', 'LDA': '℉'}\n",
      "{'LD': 82.2, 'UD': 7.8, 'UDA': 'mg/L', 'LDA': '℉'}\n",
      "{'LD': 82.4, 'UD': 7.8, 'UDA': 'mg/L', 'LDA': '℉'}\n",
      "{'LD': 82.4, 'UD': 7.8, 'UDA': 'mg/L', 'LDA': '℉'}\n",
      "{'LD': 82.4, 'UD': 7.8, 'UDA': 'mg/L', 'LDA': '℉'}\n",
      "{'LD': 82.2, 'UD': 7.8, 'UDA': 'mg/L', 'LDA': '℉'}\n",
      "{'LD': 82.2, 'UD': 7.8, 'UDA': 'mg/L', 'LDA': '℉'}\n",
      "{'LD': 82.2, 'UD': 7.8, 'UDA': 'mg/L', 'LDA': '℉'}\n",
      "{'LD': 82.2, 'UD': 7.8, 'UDA': 'mg/L', 'LDA': '℉'}\n",
      "{'LD': 82.4, 'UD': 7.8, 'UDA': 'mg/L', 'LDA': '℉'}\n",
      "{'LD': 82.4, 'UD': 7.8, 'UDA': 'mg/L', 'LDA': '℉'}\n",
      "{'LD': 27.9, 'UD': 7.8, 'UDA': 'mg/L', 'LDA': '℃'}\n",
      "{'LD': 27.9, 'UD': 7.8, 'UDA': 'mg/L', 'LDA': '℃'}\n",
      "{'LD': 27.9, 'UD': 7.8, 'UDA': 'mg/L', 'LDA': '℃'}\n",
      "{'LD': 28.0, 'UD': 7.8, 'UDA': 'mg/L', 'LDA': '℃'}\n",
      "{'LD': 28.0, 'UD': 7.8, 'UDA': 'mg/L', 'LDA': '℃'}\n",
      "{'LD': 28.0, 'UD': 7.8, 'UDA': 'mg/L', 'LDA': '℃'}\n",
      "{'LD': 27.9, 'UD': 7.8, 'UDA': 'mg/L', 'LDA': '℃'}\n",
      "{'LD': 27.9, 'UD': 7.8, 'UDA': 'mg/L', 'LDA': '℃'}\n",
      "{'LD': 27.9, 'UD': 7.8, 'UDA': 'mg/L', 'LDA': '℃'}\n",
      "{'LD': 27.9, 'UD': 7.8, 'UDA': 'mg/L', 'LDA': '℃'}\n",
      "{'LD': 28.0, 'UD': 7.8, 'UDA': 'mg/L', 'LDA': '℃'}\n",
      "{'LD': 28.0, 'UD': 7.8, 'UDA': 'mg/L', 'LDA': '℃'}\n",
      "{'LD': 27.9, 'UD': 7.8, 'UDA': 'mg/L', 'LDA': '℃'}\n",
      "{'LD': 27.9, 'UD': 20.8, 'UDA': '%O2', 'LDA': '℃'}\n",
      "{'LD': 28.0, 'UD': 20.7, 'UDA': '%O2', 'LDA': '℃'}\n",
      "{'LD': 28.0, 'UD': 20.7, 'UDA': '%O2', 'LDA': '℃'}\n",
      "{'LD': 28.1, 'UD': 20.6, 'UDA': '%O2', 'LDA': '℃'}\n",
      "{'LD': 28.0, 'UD': 20.7, 'UDA': '%O2', 'LDA': '℃'}\n",
      "{'LD': 27.9, 'UD': 20.8, 'UDA': '%O2', 'LDA': '℃'}\n",
      "{'LD': 28.0, 'UD': 20.7, 'UDA': '%O2', 'LDA': '℃'}\n",
      "{'LD': 27.9, 'UD': 20.8, 'UDA': '%O2', 'LDA': '℃'}\n"
     ]
    },
    {
     "ename": "KeyboardInterrupt",
     "evalue": "",
     "traceback": [
      "\u001b[0;31m---------------------------------------------------------------------------\u001b[0m",
      "\u001b[0;31mKeyboardInterrupt\u001b[0m                         Traceback (most recent call last)",
      "\u001b[0;32m<ipython-input-91-6a3e7130e926>\u001b[0m in \u001b[0;36m<module>\u001b[0;34m()\u001b[0m\n\u001b[1;32m      8\u001b[0m     \u001b[0mreading\u001b[0m \u001b[0;34m=\u001b[0m \u001b[0mparse_D\u001b[0m\u001b[0;34m(\u001b[0m\u001b[0mD\u001b[0m\u001b[0;34m)\u001b[0m\u001b[0;34m\u001b[0m\u001b[0m\n\u001b[1;32m      9\u001b[0m     \u001b[0mprint\u001b[0m\u001b[0;34m(\u001b[0m\u001b[0mreading\u001b[0m\u001b[0;34m)\u001b[0m\u001b[0;34m\u001b[0m\u001b[0m\n\u001b[0;32m---> 10\u001b[0;31m     \u001b[0mtime\u001b[0m\u001b[0;34m.\u001b[0m\u001b[0msleep\u001b[0m\u001b[0;34m(\u001b[0m\u001b[0;36m1\u001b[0m\u001b[0;34m)\u001b[0m\u001b[0;34m\u001b[0m\u001b[0m\n\u001b[0m",
      "\u001b[0;31mKeyboardInterrupt\u001b[0m: "
     ],
     "output_type": "error"
    }
   ],
   "source": [
    "while 1:\n",
    "    ser.reset_input_buffer()\n",
    "    v_str = ser.read(16)\n",
    "    D = []\n",
    "    for i in range(0,16,1):\n",
    "        D.append(v_str[i:i+1])\n",
    "    reading = parse_D(D)\n",
    "    print(reading)\n",
    "    time.sleep(1)"
   ]
  },
  {
   "cell_type": "code",
   "execution_count": 39,
   "metadata": {
    "collapsed": false
   },
   "outputs": [
    {
     "data": {
      "text/plain": [
       "False"
      ]
     },
     "execution_count": 39,
     "metadata": {},
     "output_type": "execute_result"
    }
   ],
   "source": [
    "ser.close()\n",
    "ser.isOpen()"
   ]
  },
  {
   "cell_type": "code",
   "execution_count": 28,
   "metadata": {
    "collapsed": false
   },
   "outputs": [
    {
     "data": {
      "text/plain": [
       "False"
      ]
     },
     "execution_count": 28,
     "metadata": {},
     "output_type": "execute_result"
    }
   ],
   "source": [
    "ser.closed"
   ]
  },
  {
   "cell_type": "code",
   "execution_count": 83,
   "metadata": {
    "collapsed": false
   },
   "outputs": [],
   "source": [
    "ser.open()"
   ]
  },
  {
   "cell_type": "code",
   "execution_count": 92,
   "metadata": {
    "collapsed": true
   },
   "outputs": [],
   "source": [
    "ser.close()"
   ]
  },
  {
   "cell_type": "code",
   "execution_count": null,
   "metadata": {
    "collapsed": true
   },
   "outputs": [],
   "source": [
    ""
   ]
  }
 ],
 "metadata": {
  "kernelspec": {
   "display_name": "Python 3",
   "language": "python",
   "name": "python3"
  },
  "language_info": {
   "codemirror_mode": {
    "name": "ipython",
    "version": 3.0
   },
   "file_extension": ".py",
   "mimetype": "text/x-python",
   "name": "python",
   "nbconvert_exporter": "python",
   "pygments_lexer": "ipython3",
   "version": "3.5.1"
  }
 },
 "nbformat": 4,
 "nbformat_minor": 0
}